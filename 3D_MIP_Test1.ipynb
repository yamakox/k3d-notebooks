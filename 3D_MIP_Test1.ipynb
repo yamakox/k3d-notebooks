{
 "cells": [
  {
   "cell_type": "code",
   "execution_count": 27,
   "id": "e610a814",
   "metadata": {},
   "outputs": [],
   "source": [
    "import os, glob, time\n",
    "import numpy as np\n",
    "import cv2\n",
    "from PIL import Image\n",
    "Image.MAX_IMAGE_PIXELS = 2560*2160*10    # 画像サイズが大きいときはここの数値を大きくする"
   ]
  },
  {
   "cell_type": "code",
   "execution_count": 28,
   "id": "0bcfde10",
   "metadata": {},
   "outputs": [],
   "source": [
    "import k3d"
   ]
  },
  {
   "cell_type": "code",
   "execution_count": 29,
   "id": "65002a32",
   "metadata": {},
   "outputs": [],
   "source": [
    "import k3d_util as util"
   ]
  },
  {
   "cell_type": "code",
   "execution_count": 30,
   "id": "13c47273",
   "metadata": {},
   "outputs": [],
   "source": [
    "# データの格納場所\n",
    "data_path = './tutorial_spheroid.npz'\n",
    "\n",
    "# 対物レンズ倍率\n",
    "util.MAGNIFICATION = 40\n",
    "\n",
    "# 撮影時のビニング\n",
    "util.BINNING = 1\n",
    "\n",
    "# Z間隔\n",
    "util.Z_SLICE_LENGTH = 2.0\n",
    "\n",
    "# 画像の画素数を減らすための画像縮小率\n",
    "util.REDUCE_RATIO = 4\n",
    "\n",
    "# Zスタックの枚数を減らすためのZステップ間隔\n",
    "util.Z_STEP = 1"
   ]
  },
  {
   "cell_type": "code",
   "execution_count": 31,
   "id": "e8e855ca",
   "metadata": {},
   "outputs": [],
   "source": [
    "# 3D画像データの読み込み関数の定義\n",
    "def load_data(file_list):\n",
    "    file_list.sort()\n",
    "    img = Image.open(file_list[0])\n",
    "    buf = np.zeros((len(file_list), img.size[1]//util.REDUCE_RATIO, img.size[0]//util.REDUCE_RATIO), dtype=np.float32)\n",
    "    for z, i in enumerate(file_list[::util.Z_STEP]):\n",
    "        img = Image.open(i)\n",
    "        img = np.asarray(img, dtype=np.float32)\n",
    "        # y軸の正方向が画面奥になるため(通常2D画像はy軸の正方向は下)、::-1で行を反転する\n",
    "        img = cv2.resize(img[::-1, :], (buf.shape[2], buf.shape[1]), interpolation=cv2.INTER_AREA)\n",
    "        buf[z, :, :] = img\n",
    "    return buf"
   ]
  },
  {
   "cell_type": "code",
   "execution_count": 32,
   "id": "c66a9940",
   "metadata": {},
   "outputs": [],
   "source": [
    "#チャネルごとに3D画像データを読み込む\n",
    "#data1 = load_data(glob.glob(os.path.join(data_path, 'W0040*C1.tif')), binning=binning)\n",
    "#data2 = load_data(glob.glob(os.path.join(data_path, 'W0040*C2.tif')), binning=binning)\n",
    "#np.savez_compressed(data_path, data1=data1, data2=data2)\n",
    "saved_data = np.load(data_path)\n",
    "data_list = [saved_data['data1'], saved_data['data2']]"
   ]
  },
  {
   "cell_type": "code",
   "execution_count": 33,
   "id": "5c5b5dd8",
   "metadata": {},
   "outputs": [],
   "source": [
    "# 3D画像データの寸法を計算する\n",
    "util.init_bounds(data_list[0])"
   ]
  },
  {
   "cell_type": "code",
   "execution_count": 38,
   "id": "35a7ab55",
   "metadata": {},
   "outputs": [],
   "source": [
    "# volume_listに画像データ(複数チャネル)\n",
    "ch1 = k3d.mip(data_list[0], \n",
    "                   util.COLOR_MAP_LIST[0], \n",
    "                   color_range=[100, 1100],\n",
    "                   samples=512, gradient_step=0, \n",
    "                   bounds=(0, util.cx, 0, util.cy, 0, util.cz)\n",
    ")\n",
    "ch2 = k3d.mip(data_list[1], \n",
    "                   util.COLOR_MAP_LIST[1], \n",
    "                   color_range=[100, 500],\n",
    "                   samples=512, gradient_step=0, \n",
    "                   bounds=(0, util.cx, 0, util.cy, 0, util.cz)\n",
    ")"
   ]
  },
  {
   "cell_type": "code",
   "execution_count": 39,
   "id": "2e3a1e19",
   "metadata": {},
   "outputs": [],
   "source": [
    "# 3Dビューアの表示エリアを生成\n",
    "plot = k3d.plot(background_color=0x000000, grid_visible=False, lighting=0, height=540)\n",
    "plot += ch2\n",
    "plot += ch1"
   ]
  },
  {
   "cell_type": "code",
   "execution_count": 40,
   "id": "0a8e3c1f",
   "metadata": {},
   "outputs": [
    {
     "data": {
      "application/vnd.jupyter.widget-view+json": {
       "model_id": "e7a72c2f7f6945b6b4b203a807683ed8",
       "version_major": 2,
       "version_minor": 0
      },
      "text/plain": [
       "Output()"
      ]
     },
     "metadata": {},
     "output_type": "display_data"
    }
   ],
   "source": [
    "plot.display()\n"
   ]
  },
  {
   "cell_type": "code",
   "execution_count": 42,
   "id": "bedc46b8",
   "metadata": {},
   "outputs": [],
   "source": [
    "plot.camera_fov = 20"
   ]
  },
  {
   "cell_type": "code",
   "execution_count": null,
   "id": "783695fa",
   "metadata": {},
   "outputs": [],
   "source": []
  },
  {
   "cell_type": "code",
   "execution_count": null,
   "id": "93d0b18b",
   "metadata": {},
   "outputs": [],
   "source": []
  }
 ],
 "metadata": {
  "kernelspec": {
   "display_name": "k3d-dev",
   "language": "python",
   "name": "k3d-dev"
  },
  "language_info": {
   "codemirror_mode": {
    "name": "ipython",
    "version": 3
   },
   "file_extension": ".py",
   "mimetype": "text/x-python",
   "name": "python",
   "nbconvert_exporter": "python",
   "pygments_lexer": "ipython3",
   "version": "3.8.10"
  }
 },
 "nbformat": 4,
 "nbformat_minor": 5
}
