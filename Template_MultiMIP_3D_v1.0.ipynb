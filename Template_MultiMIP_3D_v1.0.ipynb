{
 "cells": [
  {
   "cell_type": "markdown",
   "id": "bba7708b",
   "metadata": {},
   "source": [
    "### k3d-util.pyを同じディレクトリに格納しておくこと。"
   ]
  },
  {
   "cell_type": "code",
   "execution_count": null,
   "id": "e610a814",
   "metadata": {},
   "outputs": [],
   "source": [
    "import os, glob, time\n",
    "import numpy as np\n",
    "import cv2\n",
    "from PIL import Image\n",
    "# Image.MAX_IMAGE_PIXELS = 2560*2160*10    # 画像サイズが大きいときはここの数値を大きくする"
   ]
  },
  {
   "cell_type": "code",
   "execution_count": null,
   "id": "0bcfde10",
   "metadata": {},
   "outputs": [],
   "source": [
    "import k3d"
   ]
  },
  {
   "cell_type": "code",
   "execution_count": null,
   "id": "65002a32",
   "metadata": {},
   "outputs": [],
   "source": [
    "import k3d_util as util"
   ]
  },
  {
   "cell_type": "code",
   "execution_count": null,
   "id": "13c47273",
   "metadata": {},
   "outputs": [],
   "source": [
    "# データの格納場所\n",
    "data_path = './tutorial_spheroid.npz'\n",
    "\n",
    "# 対物レンズ倍率\n",
    "util.MAGNIFICATION = 40\n",
    "\n",
    "# 撮影時のビニング\n",
    "util.BINNING = 1\n",
    "\n",
    "# Z間隔\n",
    "util.Z_SLICE_LENGTH = 2.0\n",
    "\n",
    "# 画像の画素数を減らすための画像縮小率\n",
    "util.REDUCE_RATIO = 4\n",
    "\n",
    "# Zスタックの枚数を減らすためのZステップ間隔\n",
    "util.Z_STEP = 1"
   ]
  },
  {
   "cell_type": "code",
   "execution_count": null,
   "id": "e8e855ca",
   "metadata": {},
   "outputs": [],
   "source": [
    "# 3D画像データの読み込み関数の定義\n",
    "def load_data(file_list):\n",
    "    file_list.sort()\n",
    "    img = Image.open(file_list[0])\n",
    "    buf = np.zeros((len(file_list[::util.Z_STEP]), img.size[1]//util.REDUCE_RATIO, img.size[0]//util.REDUCE_RATIO), dtype=np.float32)\n",
    "    for z, i in enumerate(file_list[::util.Z_STEP]):\n",
    "        img = Image.open(i)\n",
    "        img = np.asarray(img, dtype=np.float32)\n",
    "        # y軸の正方向が画面奥になるため(通常2D画像はy軸の正方向は下)、::-1で行を反転する\n",
    "        img = cv2.resize(img[::-1, :], (buf.shape[2], buf.shape[1]), interpolation=cv2.INTER_AREA)\n",
    "        buf[z, :, :] = img\n",
    "    return buf"
   ]
  },
  {
   "cell_type": "code",
   "execution_count": null,
   "id": "c66a9940",
   "metadata": {},
   "outputs": [],
   "source": [
    "#チャネルごとに3D画像データを読み込む\n",
    "#data1 = load_data(glob.glob(os.path.join(data_path, 'W0040*C1.tif')))\n",
    "#data2 = load_data(glob.glob(os.path.join(data_path, 'W0040*C2.tif')))\n",
    "#np.savez_compressed(data_path, data1=data1, data2=data2)\n",
    "saved_data = np.load(data_path)\n",
    "data_list = [saved_data['data1'], saved_data['data2']]"
   ]
  },
  {
   "cell_type": "code",
   "execution_count": null,
   "id": "5c5b5dd8",
   "metadata": {},
   "outputs": [],
   "source": [
    "# 3D画像データの寸法を計算する\n",
    "util.init_bounds(data_list[0])"
   ]
  },
  {
   "cell_type": "code",
   "execution_count": null,
   "id": "35a7ab55",
   "metadata": {},
   "outputs": [],
   "source": [
    "# volume_listに画像データ(複数チャネル)\n",
    "obj = k3d.multi_mip(\n",
    "    volume_list=data_list, \n",
    "    color_map_list=util.COLOR_MAP_LIST,\n",
    "    samples=0, \n",
    "    gradient_step=0, \n",
    "    alpha_blending=True,\n",
    "    bounds=(0, util.cx, 0, util.cy, 0, util.cz)\n",
    ")"
   ]
  },
  {
   "cell_type": "code",
   "execution_count": null,
   "id": "2e3a1e19",
   "metadata": {},
   "outputs": [],
   "source": [
    "# 3Dビューアの表示エリアを生成\n",
    "plot = k3d.plot(background_color=0x000000, grid_visible=False, lighting=0, height=540)\n",
    "plot += obj"
   ]
  },
  {
   "cell_type": "code",
   "execution_count": null,
   "id": "0a8e3c1f",
   "metadata": {},
   "outputs": [],
   "source": [
    "# コントロールの準備\n",
    "util.init_controls(plot, obj, phi=40, distance=(1000, 1, 3000))\n",
    "fov = 20"
   ]
  },
  {
   "cell_type": "markdown",
   "id": "30b46d85",
   "metadata": {},
   "source": [
    "### 次のセルを実行したら、3D表示が完了するまでその次のセルを実行しないこと。"
   ]
  },
  {
   "cell_type": "code",
   "execution_count": null,
   "id": "2030a559",
   "metadata": {
    "scrolled": false
   },
   "outputs": [],
   "source": [
    "# 3Dビューア及びコントロールの表示\n",
    "plot.display()\n",
    "util.display_controls() \n",
    "\n",
    "# コントロールの初期値を変更\n",
    "util.slider_ch[0].value = [172, 900]\n",
    "util. slider_ch[1].value = [120, 500]"
   ]
  },
  {
   "cell_type": "code",
   "execution_count": null,
   "id": "33921117",
   "metadata": {},
   "outputs": [],
   "source": [
    "# FOVやカメラ位置を3D表示に反映する (いったん3D表示してからでないと働かないことがあるので、ここで実行する)\n",
    "util.refresh()\n",
    "plot.camera_fov = fov"
   ]
  },
  {
   "cell_type": "code",
   "execution_count": null,
   "id": "59904c9b",
   "metadata": {},
   "outputs": [],
   "source": []
  },
  {
   "cell_type": "code",
   "execution_count": null,
   "id": "fbf6a40d",
   "metadata": {},
   "outputs": [],
   "source": []
  },
  {
   "cell_type": "markdown",
   "id": "860dd3b5",
   "metadata": {},
   "source": [
    "### 動画作成はこちら👇\n",
    "* 動画作成にはscikit-video・frame_writer2.pyが必要。"
   ]
  },
  {
   "cell_type": "code",
   "execution_count": null,
   "id": "a4db2e84",
   "metadata": {},
   "outputs": [],
   "source": [
    "util.display_movie_controls()"
   ]
  },
  {
   "cell_type": "code",
   "execution_count": null,
   "id": "53971056",
   "metadata": {},
   "outputs": [],
   "source": [
    "util.input_movie_filename.value = 'tutorial_spheroid_30fps.mp4'"
   ]
  },
  {
   "cell_type": "code",
   "execution_count": null,
   "id": "516ee906",
   "metadata": {},
   "outputs": [],
   "source": []
  },
  {
   "cell_type": "markdown",
   "id": "402571ba",
   "metadata": {},
   "source": [
    "### 以下はシーケンスデータのサンプル"
   ]
  },
  {
   "cell_type": "code",
   "execution_count": null,
   "id": "772f09b6",
   "metadata": {
    "scrolled": false
   },
   "outputs": [],
   "source": [
    "util.state_store=[{'duration': 0,\n",
    "  'camera_pos': (0,0,0,0,0,0,0,0,0),\n",
    "  'ox': 0.0,\n",
    "  'oy': 0.0,\n",
    "  'oz': 0.0,\n",
    "  'axis': 'z',\n",
    "  'ha': 0.0,\n",
    "  'va': 80.0,\n",
    "  'd': 200.0,\n",
    "  'check_ch': [True, True],\n",
    "  'slider_ch': [(172, 900), (120, 500)],\n",
    "  'plane_x': (0, 640),\n",
    "  'plane_y': (0, 540),\n",
    "  'plane_z': (0, 1),\n",
    "  'alpha': False},\n",
    " {'duration': 6,\n",
    "  'camera_pos': (0,0,0,0,0,0,0,0,0),\n",
    "  'ox': 0.0,\n",
    "  'oy': 0.0,\n",
    "  'oz': 0.0,\n",
    "  'axis': 'z',\n",
    "  'ha': 0.0,\n",
    "  'va': 1.0,\n",
    "  'd': 1000.0,\n",
    "  'check_ch': [True, True],\n",
    "  'slider_ch': [(172, 900), (120, 500)],\n",
    "  'plane_x': (0, 640),\n",
    "  'plane_y': (0, 540),\n",
    "  'plane_z': (0, 16),\n",
    "  'alpha': False},\n",
    " {'duration': 1,\n",
    "  'camera_pos': (0,0,0,0,0,0,0,0,0),\n",
    "  'ox': 0.0,\n",
    "  'oy': 0.0,\n",
    "  'oz': 0.0,\n",
    "  'axis': 'z',\n",
    "  'ha': 0.0,\n",
    "  'va': 1.0,\n",
    "  'd': 1000.0,\n",
    "  'check_ch': [True, True],\n",
    "  'slider_ch': [(172, 900), (120, 1481)],\n",
    "  'plane_x': (0, 640),\n",
    "  'plane_y': (0, 540),\n",
    "  'plane_z': (0, 16),\n",
    "  'alpha': False},\n",
    " {'duration': 1,\n",
    "  'camera_pos': (0,0,0,0,0,0,0,0,0),\n",
    "  'ox': 0.0,\n",
    "  'oy': 0.0,\n",
    "  'oz': 0.0,\n",
    "  'axis': 'z',\n",
    "  'ha': 0.0,\n",
    "  'va': 1.0,\n",
    "  'd': 1000.0,\n",
    "  'check_ch': [True, True],\n",
    "  'slider_ch': [(172, 900), (120, 500)],\n",
    "  'plane_x': (0, 640),\n",
    "  'plane_y': (0, 540),\n",
    "  'plane_z': (0, 16),\n",
    "  'alpha': False},\n",
    " {'duration': 1,\n",
    "  'camera_pos': (0,0,0,0,0,0,0,0,0),\n",
    "  'ox': 0.0,\n",
    "  'oy': 0.0,\n",
    "  'oz': 0.0,\n",
    "  'axis': 'z',\n",
    "  'ha': 0.0,\n",
    "  'va': 1.0,\n",
    "  'd': 1000.0,\n",
    "  'check_ch': [True, True],\n",
    "  'slider_ch': [(172, 2036), (120, 500)],\n",
    "  'plane_x': (0, 640),\n",
    "  'plane_y': (0, 540),\n",
    "  'plane_z': (0, 16),\n",
    "  'alpha': False},\n",
    " {'duration': 1,\n",
    "  'camera_pos': (0,0,0,0,0,0,0,0,0),\n",
    "  'ox': 0.0,\n",
    "  'oy': 0.0,\n",
    "  'oz': 0.0,\n",
    "  'axis': 'z',\n",
    "  'ha': 0.0,\n",
    "  'va': 1.0,\n",
    "  'd': 1000.0,\n",
    "  'check_ch': [True, True],\n",
    "  'slider_ch': [(172, 900), (120, 500)],\n",
    "  'plane_x': (0, 640),\n",
    "  'plane_y': (0, 540),\n",
    "  'plane_z': (0, 16),\n",
    "  'alpha': False},\n",
    " {'duration': 6,\n",
    "  'camera_pos': (0,0,0,0,0,0,0,0,0),\n",
    "  'ox': 0.0,\n",
    "  'oy': 0.0,\n",
    "  'oz': 0.0,\n",
    "  'axis': 'z',\n",
    "  'ha': 270.0,\n",
    "  'va': 70.0,\n",
    "  'd': 600.0,\n",
    "  'check_ch': [True, True],\n",
    "  'slider_ch': [(172, 900), (120, 500)],\n",
    "  'plane_x': (0, 640),\n",
    "  'plane_y': (0, 540),\n",
    "  'plane_z': (0, 16),\n",
    "  'alpha': False},\n",
    " {'duration': 6,\n",
    "  'camera_pos': (0,0,0,0,0,0,0,0,0),\n",
    "  'ox': -261.3,\n",
    "  'oy': 0.0,\n",
    "  'oz': 0.0,\n",
    "  'axis': 'z',\n",
    "  'ha': 270.0,\n",
    "  'va': 70.0,\n",
    "  'd': 600.0,\n",
    "  'check_ch': [True, True],\n",
    "  'slider_ch': [(172, 900), (120, 500)],\n",
    "  'plane_x': (0, 1),\n",
    "  'plane_y': (0, 540),\n",
    "  'plane_z': (0, 16),\n",
    "  'alpha': False},\n",
    " {'duration': 6,\n",
    "  'camera_pos': (0,0,0,0,0,0,0,0,0),\n",
    "  'ox': 0.0,\n",
    "  'oy': 0.0,\n",
    "  'oz': 0.0,\n",
    "  'axis': 'z',\n",
    "  'ha': 360.0,\n",
    "  'va': 1.0,\n",
    "  'd': 1000.0,\n",
    "  'check_ch': [True, True],\n",
    "  'slider_ch': [(172, 900), (120, 500)],\n",
    "  'plane_x': (0, 640),\n",
    "  'plane_y': (0, 540),\n",
    "  'plane_z': (0, 16),\n",
    "  'alpha': False}]"
   ]
  },
  {
   "cell_type": "markdown",
   "id": "88e8475f",
   "metadata": {},
   "source": [
    "### スクリーンショットはalpha_blending==Trueのときは正常に得られないので注意。"
   ]
  },
  {
   "cell_type": "code",
   "execution_count": null,
   "id": "1c02f8f0",
   "metadata": {},
   "outputs": [],
   "source": [
    "plot.fetch_screenshot()"
   ]
  },
  {
   "cell_type": "code",
   "execution_count": null,
   "id": "93916a92",
   "metadata": {},
   "outputs": [],
   "source": [
    "# ブラウザからサーバのPythonへ転送するのに時間がかかるため、0バイトの場合がある。\n",
    "len(plot.screenshot)"
   ]
  },
  {
   "cell_type": "code",
   "execution_count": null,
   "id": "e9e7d1e5",
   "metadata": {},
   "outputs": [],
   "source": [
    "import base64, io\n",
    "png_stream = base64.b64decode(plot.screenshot)\n",
    "img = Image.open(io.BytesIO(png_stream))\n",
    "img"
   ]
  },
  {
   "cell_type": "code",
   "execution_count": null,
   "id": "bedc46b8",
   "metadata": {},
   "outputs": [],
   "source": []
  },
  {
   "cell_type": "code",
   "execution_count": null,
   "id": "783695fa",
   "metadata": {},
   "outputs": [],
   "source": []
  },
  {
   "cell_type": "code",
   "execution_count": null,
   "id": "88bc2fe3",
   "metadata": {},
   "outputs": [],
   "source": []
  },
  {
   "cell_type": "code",
   "execution_count": null,
   "id": "bfb24dca",
   "metadata": {},
   "outputs": [],
   "source": []
  }
 ],
 "metadata": {
  "kernelspec": {
   "display_name": "k3d-dev",
   "language": "python",
   "name": "k3d-dev"
  },
  "language_info": {
   "codemirror_mode": {
    "name": "ipython",
    "version": 3
   },
   "file_extension": ".py",
   "mimetype": "text/x-python",
   "name": "python",
   "nbconvert_exporter": "python",
   "pygments_lexer": "ipython3",
   "version": "3.8.10"
  }
 },
 "nbformat": 4,
 "nbformat_minor": 5
}
