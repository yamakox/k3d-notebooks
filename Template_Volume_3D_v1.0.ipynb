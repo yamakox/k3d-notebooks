{
 "cells": [
  {
   "cell_type": "markdown",
   "id": "bba7708b",
   "metadata": {},
   "source": [
    "### k3d_util_1.pyを同じディレクトリに格納しておくこと。"
   ]
  },
  {
   "cell_type": "code",
   "execution_count": null,
   "id": "e610a814",
   "metadata": {},
   "outputs": [],
   "source": [
    "import os, time, re\n",
    "from pathlib import Path\n",
    "import numpy as np\n",
    "import cv2\n",
    "from PIL import Image\n",
    "# Image.MAX_IMAGE_PIXELS = 2560*2160*10    # 画像サイズが大きいときはここの数値を大きくする"
   ]
  },
  {
   "cell_type": "code",
   "execution_count": null,
   "id": "0bcfde10",
   "metadata": {},
   "outputs": [],
   "source": [
    "import k3d"
   ]
  },
  {
   "cell_type": "code",
   "execution_count": null,
   "id": "65002a32",
   "metadata": {},
   "outputs": [],
   "source": [
    "import k3d_util_1 as util"
   ]
  },
  {
   "cell_type": "code",
   "execution_count": null,
   "id": "59fc69b7",
   "metadata": {},
   "outputs": [],
   "source": [
    "# 元画像データの格納場所\n",
    "data_path = Path('/Volumes/NVMeSSD256GB')\n",
    "data_path /= '60xW Spheroid jpg_ver/AssayPlate_PerkinElmer_CellCarrier-384 Ultra No2'\n",
    "\n",
    "# numpy配列データの格納場所\n",
    "npz_data_path = Path('./1ch_spheroid_volume_data.npz')"
   ]
  },
  {
   "cell_type": "code",
   "execution_count": null,
   "id": "13c47273",
   "metadata": {},
   "outputs": [],
   "source": [
    "# 対物レンズ倍率\n",
    "util.MAGNIFICATION = 60\n",
    "\n",
    "# 撮影時のビニング\n",
    "util.BINNING = 1\n",
    "\n",
    "# Z間隔\n",
    "util.Z_SLICE_LENGTH = 0.3\n",
    "\n",
    "# 画像の画素数を減らすための画像縮小率\n",
    "util.REDUCE_RATIO = 24\n",
    "\n",
    "# Zスタックの枚数を減らすためのZステップ間隔\n",
    "util.Z_STEP = 8"
   ]
  },
  {
   "cell_type": "code",
   "execution_count": null,
   "id": "e8e855ca",
   "metadata": {},
   "outputs": [],
   "source": [
    "# CV8000でZを3桁撮るとファイル名が桁あふれしてしまうため、正規表現でZ番号を取得する\n",
    "def z_number(file_name):\n",
    "    m = re.search(r'Z(\\d+)[^Z]*', file_name)\n",
    "    return int(m.groups()[0])\n",
    "\n",
    "# 3D画像データの読み込み関数の定義\n",
    "def load_data(file_list):\n",
    "    file_list.sort(key=z_number)\n",
    "    img = Image.open(file_list[0])\n",
    "    buf = np.zeros((len(file_list[::util.Z_STEP]), (img.size[1]//util.REDUCE_RATIO)&~1, (img.size[0]//util.REDUCE_RATIO)&~1), dtype=np.float16)\n",
    "    for z, i in enumerate(file_list[::util.Z_STEP]):\n",
    "        img = Image.open(i)\n",
    "        img = np.asarray(img, dtype=np.float32)   # float16ではcv2.resizeでエラーになるため\n",
    "        img = cv2.resize(img, (buf.shape[2], buf.shape[1]), interpolation=cv2.INTER_AREA)\n",
    "        buf[z, :, :] = img.astype(np.float16)\n",
    "    return buf"
   ]
  },
  {
   "cell_type": "code",
   "execution_count": null,
   "id": "c66a9940",
   "metadata": {},
   "outputs": [],
   "source": [
    "# もし、既にnumpy配列データのファイルが存在している場合、そちらを読み込む\n",
    "if npz_data_path.exists():\n",
    "    saved_data = np.load(npz_data_path)\n",
    "    data1 = saved_data['data1']\n",
    "else:\n",
    "    #チャネルごとに3D画像データを読み込む\n",
    "    data1 = load_data([str(x) for x in data_path.glob('Assay*F002*C01.jpg')])\n",
    "    np.savez_compressed(npz_data_path, data1=data1)"
   ]
  },
  {
   "cell_type": "code",
   "execution_count": null,
   "id": "5c5b5dd8",
   "metadata": {},
   "outputs": [],
   "source": [
    "# 3D画像データの寸法を計算する\n",
    "util.init_bounds(data1)"
   ]
  },
  {
   "cell_type": "code",
   "execution_count": null,
   "id": "35a7ab55",
   "metadata": {},
   "outputs": [],
   "source": [
    "# volume_listに画像データ(複数チャネル)\n",
    "obj = k3d.volume(\n",
    "    volume=data1, \n",
    "    color_map=np.array(k3d.basic_color_maps.BlackBodyRadiation, dtype=np.float32),\n",
    "    bounds=(0, util.cx, 0, util.cy, 0, util.cz)\n",
    ")"
   ]
  },
  {
   "cell_type": "code",
   "execution_count": null,
   "id": "2e3a1e19",
   "metadata": {},
   "outputs": [],
   "source": [
    "# 3Dビューアの表示エリアを生成\n",
    "plot = k3d.plot(background_color=0xffffff, lighting=1.3, grid_visible=True, axes_helper=True, height=540)\n",
    "plot += obj"
   ]
  },
  {
   "cell_type": "code",
   "execution_count": null,
   "id": "0a8e3c1f",
   "metadata": {},
   "outputs": [],
   "source": [
    "# コントロールの準備\n",
    "util.init_controls(plot, obj, phi=-110, distance=(330, 1, 600))\n",
    "fov = 50"
   ]
  },
  {
   "cell_type": "markdown",
   "id": "6770bf47",
   "metadata": {},
   "source": [
    "### 次のセルを実行したら、3D表示が完了するまでその次のセルを実行しないこと。"
   ]
  },
  {
   "cell_type": "code",
   "execution_count": null,
   "id": "2030a559",
   "metadata": {
    "scrolled": false
   },
   "outputs": [],
   "source": [
    "# 3Dビューア及びコントロールの表示\n",
    "plot.display()\n",
    "util.display_controls() \n",
    "\n",
    "# コントロールの初期値を変更\n",
    "util.slider_ch.value = [0, 200]"
   ]
  },
  {
   "cell_type": "code",
   "execution_count": null,
   "id": "33921117",
   "metadata": {},
   "outputs": [],
   "source": [
    "# FOVやカメラ位置を3D表示に反映する (いったん3D表示してからでないと働かないことがあるので、ここで実行する)\n",
    "util.refresh()\n",
    "plot.camera_fov = fov"
   ]
  },
  {
   "cell_type": "code",
   "execution_count": null,
   "id": "8a93e532",
   "metadata": {},
   "outputs": [],
   "source": [
    "util.refresh()"
   ]
  },
  {
   "cell_type": "markdown",
   "id": "860dd3b5",
   "metadata": {},
   "source": [
    "### 動画作成はこちら👇\n",
    "* 動画作成にはffmpeg・ffmpeg-python・frame_writer2.pyが必要。"
   ]
  },
  {
   "cell_type": "code",
   "execution_count": null,
   "id": "a4db2e84",
   "metadata": {
    "scrolled": false
   },
   "outputs": [],
   "source": [
    "util.display_movie_controls()"
   ]
  },
  {
   "cell_type": "code",
   "execution_count": null,
   "id": "53971056",
   "metadata": {},
   "outputs": [],
   "source": [
    "util.input_movie_filename.value = '1ch_spheroid_volume_30fps.mp4'"
   ]
  },
  {
   "cell_type": "code",
   "execution_count": null,
   "id": "835c73a0",
   "metadata": {},
   "outputs": [],
   "source": []
  },
  {
   "cell_type": "code",
   "execution_count": null,
   "id": "0849e39f",
   "metadata": {},
   "outputs": [],
   "source": []
  },
  {
   "cell_type": "code",
   "execution_count": null,
   "id": "516ee906",
   "metadata": {},
   "outputs": [],
   "source": [
    "util.state_store"
   ]
  },
  {
   "cell_type": "markdown",
   "id": "88e8475f",
   "metadata": {},
   "source": [
    "### スクリーンショットはalpha_blending==Trueのときは正常に得られないので注意。"
   ]
  },
  {
   "cell_type": "code",
   "execution_count": null,
   "id": "1c02f8f0",
   "metadata": {},
   "outputs": [],
   "source": [
    "plot.fetch_screenshot()"
   ]
  },
  {
   "cell_type": "code",
   "execution_count": null,
   "id": "93916a92",
   "metadata": {},
   "outputs": [],
   "source": [
    "# ブラウザからサーバのPythonへ転送するのに時間がかかるため、0バイトの場合がある。\n",
    "len(plot.screenshot)"
   ]
  },
  {
   "cell_type": "code",
   "execution_count": null,
   "id": "e9e7d1e5",
   "metadata": {},
   "outputs": [],
   "source": [
    "import base64, io\n",
    "png_stream = base64.b64decode(plot.screenshot)\n",
    "img = Image.open(io.BytesIO(png_stream))\n",
    "img"
   ]
  },
  {
   "cell_type": "code",
   "execution_count": null,
   "id": "bedc46b8",
   "metadata": {},
   "outputs": [],
   "source": []
  },
  {
   "cell_type": "code",
   "execution_count": null,
   "id": "783695fa",
   "metadata": {},
   "outputs": [],
   "source": []
  },
  {
   "cell_type": "code",
   "execution_count": null,
   "id": "93d0b18b",
   "metadata": {},
   "outputs": [],
   "source": []
  }
 ],
 "metadata": {
  "kernelspec": {
   "display_name": "k3d-dev",
   "language": "python",
   "name": "k3d-dev"
  },
  "language_info": {
   "codemirror_mode": {
    "name": "ipython",
    "version": 3
   },
   "file_extension": ".py",
   "mimetype": "text/x-python",
   "name": "python",
   "nbconvert_exporter": "python",
   "pygments_lexer": "ipython3",
   "version": "3.8.10"
  }
 },
 "nbformat": 4,
 "nbformat_minor": 5
}
